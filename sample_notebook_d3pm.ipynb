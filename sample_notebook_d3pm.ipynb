{
 "cells": [
  {
   "cell_type": "code",
   "execution_count": null,
   "metadata": {},
   "outputs": [],
   "source": [
    "import torch\n",
    "import lib.utils.bookkeeping as bookkeeping\n",
    "from torch.utils.data import DataLoader\n",
    "from pathlib import Path\n",
    "import numpy as np\n",
    "import matplotlib.pyplot as plt\n",
    "import lib.models.models as models\n",
    "import lib.models.model_utils as model_utils\n",
    "from lib.datasets import mnist, maze, protein, synthetic\n",
    "import lib.datasets.dataset_utils as dataset_utils\n",
    "import lib.losses.losses as losses\n",
    "import lib.losses.losses_utils as losses_utils\n",
    "import lib.training.training as training\n",
    "import lib.training.training_utils as training_utils\n",
    "import lib.optimizers.optimizers as optimizers\n",
    "import lib.optimizers.optimizers_utils as optimizers_utils\n",
    "from lib.d3pm import make_diffusion\n",
    "import os\n",
    "from lib.datasets.maze import maze_acc\n"
   ]
  },
  {
   "cell_type": "code",
   "execution_count": null,
   "metadata": {},
   "outputs": [],
   "source": [
    "# creating path\n",
    "path = \"SavedModels/MNIST/\"\n",
    "date = '2024-02-07' # 2\n",
    "config_name = 'config_001.yaml' # config_001_hollowMLEProb.yaml\n",
    "model_name = 'model_name.pt'\n",
    "\n",
    "config_path = os.path.join(path, date, config_name)\n",
    "checkpoint_path = os.path.join(path, date, model_name)"
   ]
  },
  {
   "cell_type": "code",
   "execution_count": null,
   "metadata": {},
   "outputs": [],
   "source": [
    "# creating models\n",
    "cfg = bookkeeping.load_config(config_path)\n",
    "\n",
    "diffusion = make_diffusion(cfg.model)\n",
    "#print(cfg)\n",
    "device = torch.device(cfg.device)\n",
    "print(device)\n",
    "\n",
    "model = model_utils.create_model(cfg, device)\n",
    "print(\"number of parameters: \", sum([p.numel() for p in model.parameters()]))\n",
    "\n",
    "optimizer = torch.optim.Adam(model.parameters(), cfg.optimizer.lr)\n",
    "\n",
    "state = {\"model\": model, \"optimizer\": optimizer, \"n_iter\": 0}\n",
    "state = bookkeeping.load_state(state, checkpoint_path, device)\n",
    "state['model'].eval()\n"
   ]
  },
  {
   "cell_type": "code",
   "execution_count": null,
   "metadata": {},
   "outputs": [],
   "source": [
    "n_samples = 100\n",
    "if cfg.data.name == 'Maze3S':\n",
    "    shape = (n_samples, 1, 15, 15)\n",
    "elif cfg.data.name == 'DiscreteMNIST':\n",
    "    shape = (n_samples, 1, 28, 28)\n",
    "elif cfg.data.name == 'SyntheticData':\n",
    "    shape = (n_samples, 32)\n",
    "else:\n",
    "    raise ValueError(\"wrong\")\n",
    "\n",
    "samples = diffusion.p_sample_loop(state['model'], shape, cfg.model.num_timesteps).cpu().numpy()\n",
    "saved_samples = samples"
   ]
  },
  {
   "cell_type": "code",
   "execution_count": null,
   "metadata": {},
   "outputs": [],
   "source": [
    "from lib.datasets.mnist_fid import evaluate_fid_score\n",
    "data = np.load(f'sample_path.npy')\n",
    "dataset_location = \"lib/datasets\"\n",
    "fid_values = []\n",
    "cfg.data.train = False\n",
    "dataset = dataset_utils.get_dataset(cfg, device, dataset_location)\n",
    "\n",
    "dataloader = torch.utils.data.DataLoader(dataset,\n",
    "    batch_size=data.shape[0],\n",
    "    shuffle=cfg.data.shuffle)\n",
    "for true_data in (dataloader):\n",
    "    #print(f'mnist_hollow_{sampler_n}{step}.npy')\n",
    "    print(\"----------------------------------\")\n",
    "\n",
    "    fid = evaluate_fid_score(data, true_data.cpu().numpy(), 100)\n",
    "    print(\"FID:\", fid)\n",
    "    fid_values.append(fid)\n",
    "    break\n",
    "print(fid_values)\n"
   ]
  },
  {
   "cell_type": "code",
   "execution_count": null,
   "metadata": {},
   "outputs": [],
   "source": [
    "is_img = True\n",
    "if is_img:\n",
    "    samples = samples.reshape(-1, 1, cfg.data.image_size, cfg.data.image_size)\n",
    "    saving_train_path = os.path.join(cfg.saving.sample_plot_path, f\"{cfg.model.name}{state['n_iter']}_{cfg.sampler.name}{cfg.sampler.num_steps}.png\")\n",
    "    fig = plt.figure(figsize=(9, 9)) \n",
    "    for i in range(n_samples):\n",
    "        plt.subplot(int(np.sqrt(n_samples)), int(np.sqrt(n_samples)), 1 + i)\n",
    "        plt.axis(\"off\")\n",
    "        plt.imshow(np.transpose(samples[i, ...], (1,2,0)), cmap=\"gray\")\n",
    " \n",
    "    # saving_train_path\n",
    "    plt.savefig('image_samples.pdf', transparent=True)\n",
    "    plt.show()\n",
    "    plt.close()\n",
    "else:\n",
    "    bm, inv_bm = synthetic.get_binmap(cfg.model.concat_dim, cfg.data.binmode)\n",
    "    print(inv_bm)\n",
    "    samples = synthetic.bin2float(samples.astype(np.int32), inv_bm, cfg.model.concat_dim, cfg.data.int_scale)\n",
    "\n",
    " \n",
    "    saving_plot_path = os.path.join(path, f\"{cfg.model.name}{state['n_iter']}_{cfg.sampler.name}{cfg.sampler.num_steps}.png\")\n",
    "    saving_np_path = os.path.join(path, f\"samples_{cfg.model.name}{state['n_iter']}_{cfg.sampler.name}{cfg.sampler.num_steps}.npy\")\n",
    "    synthetic.plot_samples(samples, 'synthetic_samples.pdf', im_size=cfg.data.plot_size, im_fmt=\"pdf\")"
   ]
  },
  {
   "cell_type": "code",
   "execution_count": null,
   "metadata": {},
   "outputs": [],
   "source": [
    "correct_mazes = maze_acc(saved_samples)"
   ]
  },
  {
   "cell_type": "code",
   "execution_count": null,
   "metadata": {},
   "outputs": [],
   "source": [
    "cfg.data.name = 'Maze3SComplete'\n",
    "cfg.data.batch_size = n_samples\n",
    "\n",
    "if cfg.data.name == 'Maze3SComplete':\n",
    "    limit = cfg.data.batch_size\n",
    "    cfg.data.limit = limit \n",
    "\n",
    "dataset = dataset_utils.get_dataset(cfg, device)\n",
    "dataloader = torch.utils.data.DataLoader(dataset,\n",
    "    batch_size=cfg.data.batch_size,\n",
    "    shuffle=cfg.data.shuffle)\n",
    "\n",
    "for i in dataloader:\n",
    "    true_dl = i\n",
    "    c_i = maze_acc(i.cpu().numpy())\n",
    "    true_dl = true_dl.reshape(cfg.data.batch_size, -1) #.flatten()"
   ]
  }
 ],
 "metadata": {
  "kernelspec": {
   "display_name": "diffvenv",
   "language": "python",
   "name": "python3"
  },
  "language_info": {
   "codemirror_mode": {
    "name": "ipython",
    "version": 3
   },
   "file_extension": ".py",
   "mimetype": "text/x-python",
   "name": "python",
   "nbconvert_exporter": "python",
   "pygments_lexer": "ipython3",
   "version": "3.10.4"
  },
  "orig_nbformat": 4
 },
 "nbformat": 4,
 "nbformat_minor": 2
}
